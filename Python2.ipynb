{
  "nbformat": 4,
  "nbformat_minor": 0,
  "metadata": {
    "colab": {
      "name": "Python2.ipynb",
      "provenance": []
    },
    "kernelspec": {
      "name": "python3",
      "display_name": "Python 3"
    },
    "language_info": {
      "name": "python"
    }
  },
  "cells": [
    {
      "cell_type": "code",
      "execution_count": 1,
      "metadata": {
        "colab": {
          "base_uri": "https://localhost:8080/",
          "height": 35
        },
        "id": "0Ars-5HSXeDZ",
        "outputId": "ca69173c-459f-4358-9167-2991492211a5"
      },
      "outputs": [
        {
          "output_type": "execute_result",
          "data": {
            "text/plain": [
              "'SADBAD'"
            ],
            "application/vnd.google.colaboratory.intrinsic+json": {
              "type": "string"
            }
          },
          "metadata": {},
          "execution_count": 1
        }
      ],
      "source": [
        "\"SAD\"+\"BAD\""
      ]
    },
    {
      "cell_type": "code",
      "source": [
        "Name = \" Nikhil\"\n",
        "Sirname = \"Ahire\"\n",
        "print(Name + \" \"+ Sirname)"
      ],
      "metadata": {
        "colab": {
          "base_uri": "https://localhost:8080/"
        },
        "id": "H-JdKcvtb8kN",
        "outputId": "dc277653-e476-46d2-ba94-56e383f4097f"
      },
      "execution_count": 4,
      "outputs": [
        {
          "output_type": "stream",
          "name": "stdout",
          "text": [
            " Nikhil Ahire\n"
          ]
        }
      ]
    },
    {
      "cell_type": "code",
      "source": [
        "a = 2.3\n",
        "print(type(a))\n",
        "int(a)"
      ],
      "metadata": {
        "colab": {
          "base_uri": "https://localhost:8080/"
        },
        "id": "iwxM49M3eWPe",
        "outputId": "5a5da4cf-418a-47e6-9782-31c3f2f9b1a1"
      },
      "execution_count": 18,
      "outputs": [
        {
          "output_type": "stream",
          "name": "stdout",
          "text": [
            "<class 'float'>\n"
          ]
        },
        {
          "output_type": "execute_result",
          "data": {
            "text/plain": [
              "2"
            ]
          },
          "metadata": {},
          "execution_count": 18
        }
      ]
    },
    {
      "cell_type": "code",
      "source": [
        "b = 312\n",
        "print(type(b))\n",
        "float(b)"
      ],
      "metadata": {
        "colab": {
          "base_uri": "https://localhost:8080/"
        },
        "id": "mteGsDdUeeuU",
        "outputId": "dedc9554-8f9f-46d4-e2ec-2d7685dedac0"
      },
      "execution_count": 19,
      "outputs": [
        {
          "output_type": "stream",
          "name": "stdout",
          "text": [
            "<class 'int'>\n"
          ]
        },
        {
          "output_type": "execute_result",
          "data": {
            "text/plain": [
              "312.0"
            ]
          },
          "metadata": {},
          "execution_count": 19
        }
      ]
    },
    {
      "cell_type": "code",
      "source": [
        "c = 3j\n",
        "print(type(c))\n",
        "int(c)"
      ],
      "metadata": {
        "colab": {
          "base_uri": "https://localhost:8080/",
          "height": 217
        },
        "id": "TBkdkiAZel26",
        "outputId": "f50889ba-b2f9-468d-9098-27337e30a6c1"
      },
      "execution_count": 20,
      "outputs": [
        {
          "output_type": "stream",
          "name": "stdout",
          "text": [
            "<class 'complex'>\n"
          ]
        },
        {
          "output_type": "error",
          "ename": "TypeError",
          "evalue": "ignored",
          "traceback": [
            "\u001b[0;31m---------------------------------------------------------------------------\u001b[0m",
            "\u001b[0;31mTypeError\u001b[0m                                 Traceback (most recent call last)",
            "\u001b[0;32m<ipython-input-20-03e0a52665c7>\u001b[0m in \u001b[0;36m<module>\u001b[0;34m()\u001b[0m\n\u001b[1;32m      1\u001b[0m \u001b[0mc\u001b[0m \u001b[0;34m=\u001b[0m \u001b[0;36m3j\u001b[0m\u001b[0;34m\u001b[0m\u001b[0;34m\u001b[0m\u001b[0m\n\u001b[1;32m      2\u001b[0m \u001b[0mprint\u001b[0m\u001b[0;34m(\u001b[0m\u001b[0mtype\u001b[0m\u001b[0;34m(\u001b[0m\u001b[0mc\u001b[0m\u001b[0;34m)\u001b[0m\u001b[0;34m)\u001b[0m\u001b[0;34m\u001b[0m\u001b[0;34m\u001b[0m\u001b[0m\n\u001b[0;32m----> 3\u001b[0;31m \u001b[0mint\u001b[0m\u001b[0;34m(\u001b[0m\u001b[0mc\u001b[0m\u001b[0;34m)\u001b[0m\u001b[0;34m\u001b[0m\u001b[0;34m\u001b[0m\u001b[0m\n\u001b[0m",
            "\u001b[0;31mTypeError\u001b[0m: can't convert complex to int"
          ]
        }
      ]
    },
    {
      "cell_type": "code",
      "source": [
        "a = 2.3\n",
        "complex(a)\n"
      ],
      "metadata": {
        "colab": {
          "base_uri": "https://localhost:8080/"
        },
        "id": "ZoxmnTbkdygQ",
        "outputId": "1bb31d61-4faf-4ce4-e844-48255a1cde9a"
      },
      "execution_count": 13,
      "outputs": [
        {
          "output_type": "execute_result",
          "data": {
            "text/plain": [
              "(2.3+0j)"
            ]
          },
          "metadata": {},
          "execution_count": 13
        }
      ]
    },
    {
      "cell_type": "code",
      "source": [
        "b = 312\n",
        "complex(b)"
      ],
      "metadata": {
        "colab": {
          "base_uri": "https://localhost:8080/"
        },
        "id": "hJboD7Zgd4Vy",
        "outputId": "453d009b-c29e-4e4e-ab67-7a432b3625eb"
      },
      "execution_count": 14,
      "outputs": [
        {
          "output_type": "execute_result",
          "data": {
            "text/plain": [
              "(312+0j)"
            ]
          },
          "metadata": {},
          "execution_count": 14
        }
      ]
    },
    {
      "cell_type": "code",
      "source": [
        "a = 2.3\n",
        "b = 312\n",
        "complex(a,b)"
      ],
      "metadata": {
        "colab": {
          "base_uri": "https://localhost:8080/"
        },
        "id": "MvDtPmaCevD8",
        "outputId": "23ffbf41-6c2d-4ed7-a478-f63d56d91d71"
      },
      "execution_count": 21,
      "outputs": [
        {
          "output_type": "execute_result",
          "data": {
            "text/plain": [
              "(2.3+312j)"
            ]
          },
          "metadata": {},
          "execution_count": 21
        }
      ]
    },
    {
      "cell_type": "code",
      "source": [
        "Name = \" Nikhil\"\n",
        "Age = \"20\"\n",
        "Class = \"TY BSc\"\n",
        "College = \" SP College\"\n",
        "myorder = \" My name is {} and I'm {} years old, I am student of {} studying in {}.\"\n",
        "print(myorder.format(Name,Age,Class,College))"
      ],
      "metadata": {
        "colab": {
          "base_uri": "https://localhost:8080/"
        },
        "id": "yjln69d5i4xD",
        "outputId": "eea3b387-91e1-4a6e-9da5-10c3cdbd6727"
      },
      "execution_count": 24,
      "outputs": [
        {
          "output_type": "stream",
          "name": "stdout",
          "text": [
            " My name is  Nikhil and I'm 20 years old, I am student of TY BSc studying in  SP College.\n"
          ]
        }
      ]
    },
    {
      "cell_type": "code",
      "source": [
        "Name = \" Nikhil\"\n",
        "Age = \"20\"\n",
        "Class = \"TY BSc\"\n",
        "College = \" SP College\"\n",
        "myorder = \" My name is {t} and I'm {s} years old, I am student of {y} studying in {x}.\"\n",
        "print(myorder.format(t=Name,s=Age,y=Class,x=College))"
      ],
      "metadata": {
        "colab": {
          "base_uri": "https://localhost:8080/"
        },
        "id": "sCWeU_HGme5o",
        "outputId": "ba1a9903-5069-44c0-8d3b-dbcd4b03d2c0"
      },
      "execution_count": 27,
      "outputs": [
        {
          "output_type": "stream",
          "name": "stdout",
          "text": [
            " My name is  Nikhil and I'm 20 years old, I am student of TY BSc studying in  SP College.\n"
          ]
        }
      ]
    },
    {
      "cell_type": "code",
      "source": [
        "Name = \" Nikhil\"\n",
        "Age = \"20\"\n",
        "Class = \"TY BSc\"\n",
        "College = \" SP College\"\n",
        "myorder = \" My name is {x} and I'm {s} years old, I am student of {y} studying in {x}.\"\n",
        "print(myorder.format(t=Name,s=Age,y=Class,x=College))"
      ],
      "metadata": {
        "colab": {
          "base_uri": "https://localhost:8080/"
        },
        "id": "kVuhCUF8nEft",
        "outputId": "e9f4b2fb-ad59-4331-a783-993c7449433a"
      },
      "execution_count": 28,
      "outputs": [
        {
          "output_type": "stream",
          "name": "stdout",
          "text": [
            " My name is  SP College and I'm 20 years old, I am student of TY BSc studying in  SP College.\n"
          ]
        }
      ]
    },
    {
      "cell_type": "code",
      "source": [
        ""
      ],
      "metadata": {
        "id": "I4JAntngo_HP"
      },
      "execution_count": null,
      "outputs": []
    }
  ]
}